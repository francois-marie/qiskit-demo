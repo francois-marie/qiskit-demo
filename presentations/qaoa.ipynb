{
 "cells": [
  {
   "cell_type": "markdown",
   "metadata": {
    "tags": [
     "remove_cell"
    ]
   },
   "source": [
    "# Solving combinatorial optimization problems using QAOA"
   ]
  },
  {
   "cell_type": "markdown",
   "metadata": {},
   "source": [
    "In this tutorial, we introduce combinatorial optimization problems, explain approximate optimization algorithms, explain how the Quantum Approximate Optimization Algorithm (QAOA) works and present the implementation of an example that can be run on a simulator or on a real quantum system."
   ]
  },
  {
   "cell_type": "code",
   "execution_count": null,
   "outputs": [],
   "source": [],
   "metadata": {
    "collapsed": false
   }
  },
  {
   "cell_type": "code",
   "execution_count": null,
   "outputs": [],
   "source": [
    "pip install qiskit pylatexenc"
   ],
   "metadata": {
    "collapsed": false
   }
  },
  {
   "cell_type": "code",
   "execution_count": 17,
   "metadata": {},
   "outputs": [],
   "source": [
    "import networkx as nx\n",
    "\n",
    "from qiskit_aer import AerSimulator\n",
    "from qiskit import *\n",
    "import numpy as np\n",
    "import matplotlib.pyplot as plt"
   ]
  },
  {
   "cell_type": "markdown",
   "metadata": {},
   "source": [
    "## Combinatorial Optimization Problem\n",
    "\n",
    "Combinatorial optimization problems involve finding an optimal object out of a finite set of objects. We would focus on problems that involve \n",
    "finding \"optimal\" bitstrings composed of 0's and 1's among a finite set of bitstrings. One such problem corresponding to a graph is the Max-Cut problem. \n",
    "\n",
    "### Max-Cut problem\n",
    "A Max-Cut problem involves partitioning nodes of a graph into two sets, such that the number of edges between the sets is maximum. The example below\n",
    "has a graph with four nodes and some of the ways in which it can be partitioned into two sets, \"red\" and \"blue\" is shown.\n",
    "\n",
    "\n",
    "\n",
    "![](images/qaoa_maxcut.png)"
   ]
  },
  {
   "cell_type": "markdown",
   "metadata": {},
   "source": [
    "For 4 nodes, as each node can be assigned to either the \"red\" or \"blue\" sets, there are $2^4=16$ possible assigments, out of which we have to find one that gives maximum number of edges between the sets \"red\" and \"blue\". The number of such edges between two sets in the figure, as we go from left to right, are 0, 2, 2, and 4. We can see, after enumerating all possible $2^4=16$ assignments, that the rightmost figure is the assignment that gives the maximum number of edges between the two sets. Hence if we encode \"red\" as 0 and \"blue\" as 1, the bitstrings \"0101\" and \"1010\" that represent the assignment of nodes to either set are the solutions.   "
   ]
  },
  {
   "cell_type": "markdown",
   "metadata": {},
   "source": [
    "As you may have realized, as the number of nodes in the graph increases, the number of possible assignments \n",
    "that you have to examine to find the solution increases exponentially."
   ]
  },
  {
   "cell_type": "markdown",
   "metadata": {},
   "source": [
    "## QAOA\n",
    "\n",
    "QAOA (Quantum Approximate Optimization Algorithm) introduced by Farhi et al.[1] is a quantum algorithm that attempts to \n",
    "solve such combinatorial problems.<br> \n",
    "\n",
    "It is a variational algorithm that uses a unitary $U(\\boldsymbol{\\beta}, \\boldsymbol{\\gamma})$ characterized by the parameters \n",
    "$(\\boldsymbol{\\beta}, \\boldsymbol{\\gamma})$ to prepare a quantum state $\\lvert \\psi(\\boldsymbol{\\beta}, \\boldsymbol{\\gamma}) \\rangle$. \n",
    "The goal of the algorithm\n",
    "is to find optimal parameters $(\\boldsymbol{\\beta}_{opt}, \\boldsymbol{\\gamma}_{opt})$ such that the \n",
    "quantum state $\\lvert \\psi(\\boldsymbol{\\beta}_{opt}, \\boldsymbol{\\gamma}_{opt}) \\rangle$ encodes the solution to the problem. \n",
    "\n",
    "The unitary $U(\\boldsymbol{\\beta}, \\boldsymbol{\\gamma})$ has a specific form and is composed of two unitaries \n",
    "$U(\\boldsymbol{\\beta}) = e^{-i \\boldsymbol{\\beta} H_B}$ and $U(\\boldsymbol{\\gamma}) = e^{-i \\boldsymbol{\\gamma} H_P}$\n",
    "where $H_B$ is the mixing Hamiltonian and $H_P$ is the problem Hamiltonian. Such a choice of unitary drives its inspiration \n",
    "from a related scheme called quantum annealing.\n",
    "\n",
    "The state is prepared by applying these unitaries as alternating blocks of the two unitaries applied $p$ times such that \n",
    "\n",
    "$$\\lvert \\psi(\\boldsymbol{\\beta}, \\boldsymbol{\\gamma}) \\rangle = \\underbrace{U(\\boldsymbol{\\beta}) U(\\boldsymbol{\\gamma}) \n",
    "                                            \\cdots U(\\boldsymbol{\\beta}) U(\\boldsymbol{\\gamma})}_{p \\; \\text{times}} \n",
    "\\lvert \\psi_0 \\rangle$$\n",
    "\n",
    "where $\\lvert \\psi_0 \\rangle$ is a suitable initial state. \n",
    "\n",
    "We will demonstrate these steps using the Max-Cut problem discussed above. For that we would first define\n",
    "the underlying graph of the problem shown above."
   ]
  },
  {
   "cell_type": "code",
   "execution_count": 2,
   "metadata": {},
   "outputs": [
    {
     "data": {
      "text/plain": "<Figure size 432x288 with 1 Axes>",
      "image/png": "[encoded data removed]"
     },
     "metadata": {},
     "output_type": "display_data"
    }
   ],
   "source": [
    "import networkx as nx\n",
    "\n",
    "G = nx.Graph()\n",
    "G.add_nodes_from([0, 1, 2, 3])\n",
    "G.add_edges_from([(0, 1), (1, 2), (2, 3), (3, 0)])\n",
    "nx.draw(G, with_labels=True, alpha=0.8, node_size=500)"
   ]
  },
  {
   "cell_type": "markdown",
   "metadata": {},
   "source": [
    "The problem Hamiltonian specific to the Max-Cut problem up to a constant here is:\n",
    "\n",
    "$$\n",
    "H_P = \\frac{1}{2}\\big(Z_0 \\otimes Z_1 \\otimes I_2 \\otimes I_3\\big) + \n",
    "        \\frac{1}{2}\\big(I_0 \\otimes Z_1 \\otimes Z_2 \\otimes I_3\\big) +\n",
    "        \\frac{1}{2}\\big(Z_0 \\otimes I_1 \\otimes I_2 \\otimes Z_3\\big) +\n",
    "        \\frac{1}{2}\\big(I_0 \\otimes I_1 \\otimes Z_2 \\otimes Z_3\\big)\n",
    "$$\n",
    "\n",
    "To contruct such a Hamiltonian for a problem, one needs to follow a few steps that we'll cover in later sections of this page.\n",
    "\n",
    "The mixer Hamiltonian $H_B$ is usually of the form:\n",
    "\n",
    "$$\n",
    "H_B = \\big(X_0 \\otimes I_1 \\otimes I_2 \\otimes I_3 \\big) + \n",
    "      \\big(I_0 \\otimes X_1 \\otimes I_2 \\otimes I_3 \\big) +\n",
    "      \\big(I_0 \\otimes I_1 \\otimes X_2 \\otimes I_3 \\big) +\n",
    "      \\big(I_0 \\otimes I_1 \\otimes I_2 \\otimes X_3 \\big)\n",
    "$$\n",
    "\n",
    "As individual terms in the summation of $H_P$ and $H_B$ both commute, we can write the unitaries as:\n",
    "\n",
    "$$ U(H_B) = e^{-i \\beta H_B} = e^{-i \\beta X_0}e^{-i \\beta X_1}e^{-i \\beta X_2}e^{-i \\beta X_3}.$$\n",
    "\n",
    "Notice that each term in the product above corresponds to an X-rotation on each qubit. And we can write $U(H_P)$ as:\n",
    "\n",
    "$$ U(H_P) = e^{-i \\gamma H_P} = e^{-i \\gamma Z_0 Z_1}e^{-i \\gamma Z_1 Z_2}e^{-i \\gamma Z_2 Z_3}e^{-i \\gamma Z_0 Z_3}$$\n",
    "\n",
    "Let's now examine what the circuits of the two unitaries look like. "
   ]
  },
  {
   "cell_type": "markdown",
   "metadata": {},
   "source": [
    "### The Mixing Unitary"
   ]
  },
  {
   "cell_type": "code",
   "execution_count": 3,
   "metadata": {},
   "outputs": [
    {
     "data": {
      "text/plain": "<Figure size 146.797x264.88 with 1 Axes>",
      "image/png": "[encoded data removed]"
     },
     "execution_count": 3,
     "metadata": {},
     "output_type": "execute_result"
    }
   ],
   "source": [
    "from qiskit import QuantumCircuit, ClassicalRegister, QuantumRegister\n",
    "from qiskit import Aer, execute\n",
    "from qiskit.circuit import Parameter\n",
    "\n",
    "# Adjacency is essentially a matrix which tells you which nodes are\n",
    "# connected. This matrix is given as a sparse matrix, so we need to\n",
    "# convert it to a dense matrix\n",
    "adjacency = nx.adjacency_matrix(G).todense()\n",
    "\n",
    "nqubits = 4\n",
    "\n",
    "beta = Parameter(\"$\\\\beta$\")\n",
    "qc_mix = QuantumCircuit(nqubits)\n",
    "for i in range(0, nqubits):\n",
    "    qc_mix.rx(2 * beta, i)\n",
    "    \n",
    "qc_mix.draw(output='mpl')"
   ]
  },
  {
   "cell_type": "markdown",
   "metadata": {},
   "source": [
    "### The Problem Unitary"
   ]
  },
  {
   "cell_type": "code",
   "execution_count": 4,
   "metadata": {},
   "outputs": [
    {
     "data": {
      "text/plain": "<Figure size 1049.8x264.88 with 1 Axes>",
      "image/png": "[encoded data removed]"
     },
     "execution_count": 4,
     "metadata": {},
     "output_type": "execute_result"
    }
   ],
   "source": [
    "gamma = Parameter(\"$\\\\gamma$\")\n",
    "qc_p = QuantumCircuit(nqubits)\n",
    "for pair in list(G.edges()):  # pairs of nodes\n",
    "    qc_p.rzz(2 * gamma, pair[0], pair[1])\n",
    "    qc_p.barrier()\n",
    "    \n",
    "qc_p.decompose().draw(output='mpl')"
   ]
  },
  {
   "cell_type": "markdown",
   "metadata": {},
   "source": [
    "### The Initial State\n",
    "\n",
    "The initial state used during QAOA is usually an equal superposition of all the basis states i.e.\n",
    "\n",
    "$$\\lvert \\psi_0 \\rangle = \\bigg(\\frac{1}{\\sqrt{2}}\\big(\\lvert 0 \\rangle + \\lvert 1 \\rangle\\big)\\bigg)^{\\otimes n}$$\n",
    "\n",
    "Such a state, when number of qubits is 4 ($n=4$), can be prepared by applying Hadamard gates starting from an all zero state as shown in \n",
    "the circuit below. "
   ]
  },
  {
   "cell_type": "code",
   "execution_count": 5,
   "metadata": {},
   "outputs": [
    {
     "data": {
      "text/plain": "<Figure size 146.797x264.88 with 1 Axes>",
      "image/png": "[encoded data removed]"
     },
     "execution_count": 5,
     "metadata": {},
     "output_type": "execute_result"
    }
   ],
   "source": [
    "qc_0 = QuantumCircuit(nqubits)\n",
    "for i in range(0, nqubits):\n",
    "    qc_0.h(i)\n",
    "    \n",
    "qc_0.draw(output='mpl')"
   ]
  },
  {
   "cell_type": "markdown",
   "metadata": {},
   "source": [
    "### The QAOA circuit\n",
    "\n",
    "So far we have seen that the preparation of a quantum state during QAOA is composed of three elements\n",
    "- Preparing an initial state\n",
    "- Applying the unitary $U(H_P) = e^{-i \\gamma H_P}$ corresponding to the problem Hamiltonian\n",
    "- Then, applying the mixing unitary $U(H_B) = e^{-i \\beta H_B}$\n",
    "\n",
    "Let's see what it looks like for the example problem:"
   ]
  },
  {
   "cell_type": "code",
   "execution_count": 6,
   "metadata": {},
   "outputs": [
    {
     "data": {
      "text/plain": "<Figure size 1170.2x264.88 with 1 Axes>",
      "image/png": "[encoded data removed]"
     },
     "execution_count": 6,
     "metadata": {},
     "output_type": "execute_result"
    }
   ],
   "source": [
    "qc_qaoa = QuantumCircuit(nqubits)\n",
    "\n",
    "qc_qaoa.append(qc_0, [i for i in range(0, nqubits)])\n",
    "qc_qaoa.append(qc_p, [i for i in range(0, nqubits)])\n",
    "qc_qaoa.append(qc_mix, [i for i in range(0, nqubits)])\n",
    "\n",
    "qc_qaoa.decompose().decompose().draw(output='mpl')"
   ]
  },
  {
   "cell_type": "markdown",
   "metadata": {},
   "source": [
    "The next step is to find the optimal parameters $(\\boldsymbol{\\beta_{opt}}, \\boldsymbol{\\gamma_{opt}})$ such that the expectation value\n",
    "\n",
    "$$ \\langle \\psi(\\boldsymbol{\\beta}_{opt}, \\boldsymbol{\\gamma}_{opt}) \\rvert H_P \\lvert \n",
    "\\psi(\\boldsymbol{\\beta}_{opt}, \\boldsymbol{\\gamma}_{opt}) \\rangle $$\n",
    "\n",
    "is minimized. Such an expectation can be obtained by doing measurement in the Z-basis. We use a classical optimization algorithm to find the optimal parameters. Following steps are involved as shown in the schematic\n",
    "\n",
    "<img src=\"images/QAOA_schematic.png\" width=\"460\" height=\"340\" class=\"center\">\n",
    "\n",
    "1. Initialize $\\boldsymbol{\\beta}$ and $\\boldsymbol{\\gamma}$ to suitable real values.\n",
    "2. Repeat until some suitable convergence criteria is met:\n",
    "    1. Prepare the state $\\lvert \\psi(\\boldsymbol{\\beta}, \\boldsymbol{\\gamma}) \\rangle$ using qaoa circuit\n",
    "    2. Measure the state in standard basis\n",
    "    3. Compute $ \\langle \\psi(\\boldsymbol{\\beta}, \\boldsymbol{\\gamma}) \\rvert H_P \\lvert \\psi(\\boldsymbol{\\beta}, \\boldsymbol{\\gamma}) \\rangle $ \n",
    "    4. Find new set of parameters $(\\boldsymbol{\\beta}^{new}, \\boldsymbol{\\gamma}^{new})$ using a classical optimization algorithm\n",
    "    5. Set current parameters $(\\boldsymbol{\\beta}, \\boldsymbol{\\gamma})$ equal to the new parameters \n",
    "      $(\\boldsymbol{\\beta}^{new}, \\boldsymbol{\\gamma}^{new})$\n",
    "\n",
    "The code below implements the steps mentioned above."
   ]
  },
  {
   "cell_type": "code",
   "execution_count": 7,
   "metadata": {},
   "outputs": [],
   "source": [
    "def maxcut_obj(x, G):\n",
    "    \"\"\"\n",
    "    Given a bitstring as a solution, this function returns\n",
    "    the number of edges shared between the two partitions\n",
    "    of the graph.\n",
    "    \n",
    "    Args:\n",
    "        x: str\n",
    "           solution bitstring\n",
    "           \n",
    "        G: networkx graph\n",
    "        \n",
    "    Returns:\n",
    "        obj: float\n",
    "             Objective\n",
    "    \"\"\"\n",
    "    obj = 0\n",
    "    for i, j in G.edges():\n",
    "        if x[i] != x[j]:\n",
    "            obj -= 1\n",
    "            \n",
    "    return obj\n",
    "\n",
    "\n",
    "def compute_expectation(counts, G):\n",
    "    \n",
    "    \"\"\"\n",
    "    Computes expectation value based on measurement results\n",
    "    \n",
    "    Args:\n",
    "        counts: dict\n",
    "                key as bitstring, val as count\n",
    "           \n",
    "        G: networkx graph\n",
    "        \n",
    "    Returns:\n",
    "        avg: float\n",
    "             expectation value\n",
    "    \"\"\"\n",
    "    \n",
    "    avg = 0\n",
    "    sum_count = 0\n",
    "    for bitstring, count in counts.items():\n",
    "        \n",
    "        obj = maxcut_obj(bitstring[::-1], G)\n",
    "        avg += obj * count\n",
    "        sum_count += count\n",
    "        \n",
    "    return avg/sum_count\n",
    "\n",
    "\n",
    "# We will also bring the different circuit components that\n",
    "# build the qaoa circuit under a single function\n",
    "def create_qaoa_circ(G, theta):\n",
    "    \n",
    "    \"\"\"\n",
    "    Creates a parametrized qaoa circuit\n",
    "    \n",
    "    Args:  \n",
    "        G: networkx graph\n",
    "        theta: list\n",
    "               unitary parameters\n",
    "                     \n",
    "    Returns:\n",
    "        qc: qiskit circuit\n",
    "    \"\"\"\n",
    "    \n",
    "    nqubits = len(G.nodes())\n",
    "    p = len(theta)//2  # number of alternating unitaries\n",
    "    qc = QuantumCircuit(nqubits)\n",
    "    \n",
    "    beta = theta[:p]\n",
    "    gamma = theta[p:]\n",
    "    \n",
    "    # initial_state\n",
    "    for i in range(0, nqubits):\n",
    "        qc.h(i)\n",
    "    \n",
    "    for irep in range(0, p):\n",
    "        \n",
    "        # problem unitary\n",
    "        for pair in list(G.edges()):\n",
    "            qc.rzz(2 * gamma[irep], pair[0], pair[1])\n",
    "\n",
    "        # mixer unitary\n",
    "        for i in range(0, nqubits):\n",
    "            qc.rx(2 * beta[irep], i)\n",
    "            \n",
    "    qc.measure_all()\n",
    "        \n",
    "    return qc\n",
    "\n",
    "# Finally we write a function that executes the circuit on the chosen backend\n",
    "def get_expectation(G, shots=512):\n",
    "    \n",
    "    \"\"\"\n",
    "    Runs parametrized circuit\n",
    "    \n",
    "    Args:\n",
    "        G: networkx graph\n",
    "        p: int,\n",
    "           Number of repetitions of unitaries\n",
    "    \"\"\"\n",
    "    \n",
    "    backend = Aer.get_backend('qasm_simulator')\n",
    "    backend.shots = shots\n",
    "    \n",
    "    def execute_circ(theta):\n",
    "        \n",
    "        qc = create_qaoa_circ(G, theta)\n",
    "        counts = backend.run(qc, seed_simulator=10, \n",
    "                             nshots=512).result().get_counts()\n",
    "        \n",
    "        return compute_expectation(counts, G)\n",
    "    \n",
    "    return execute_circ"
   ]
  },
  {
   "cell_type": "code",
   "execution_count": 8,
   "metadata": {},
   "outputs": [
    {
     "data": {
      "text/plain": "     fun: -2.994140625\n   maxcv: 0.0\n message: 'Optimization terminated successfully.'\n    nfev: 30\n  status: 1\n success: True\n       x: array([1.9793337 , 1.16663483])"
     },
     "execution_count": 8,
     "metadata": {},
     "output_type": "execute_result"
    }
   ],
   "source": [
    "from scipy.optimize import minimize\n",
    "\n",
    "\n",
    "expectation = get_expectation(G)\n",
    "\n",
    "res = minimize(expectation, \n",
    "                      [1.0, 1.0], \n",
    "                      method='COBYLA')\n",
    "res"
   ]
  },
  {
   "cell_type": "markdown",
   "metadata": {},
   "source": [
    "Note that different choices of classical optimizers are present in qiskit. We choose [COBYLA](https://github.com/Qiskit/qiskit-terra/blob/main/qiskit/algorithms/optimizers/cobyla.py) as our classical optimization algorithm here."
   ]
  },
  {
   "cell_type": "markdown",
   "metadata": {},
   "source": [
    "### Analyzing the result"
   ]
  },
  {
   "cell_type": "code",
   "execution_count": 9,
   "metadata": {
    "tags": []
   },
   "outputs": [
    {
     "data": {
      "text/plain": "<Figure size 504x360 with 1 Axes>",
      "image/png": "[encoded data removed]"
     },
     "execution_count": 9,
     "metadata": {},
     "output_type": "execute_result"
    }
   ],
   "source": [
    "from qiskit.visualization import plot_histogram\n",
    "\n",
    "backend = Aer.get_backend('aer_simulator')\n",
    "backend.shots = 512\n",
    "\n",
    "qc_res = create_qaoa_circ(G, res.x)\n",
    "\n",
    "counts = backend.run(qc_res, seed_simulator=10).result().get_counts()\n",
    "\n",
    "plot_histogram(counts)"
   ]
  },
  {
   "cell_type": "markdown",
   "metadata": {},
   "source": [
    "As we notice that the bitstrings \"0101\" and \"1010\" have the highest probability and are indeed the assignments of the graph (we started with) that gives 4 edges between the two partitions."
   ]
  },
  {
   "cell_type": "markdown",
   "source": [
    "\n",
    "## with noisy simulations\n",
    "### Basic bit-flip error noise model\n",
    "\n",
    "Lets consider a simple toy noise model example common in quantum information theory research:\n",
    "\n",
    "- When applying a single qubit gate, flip the state of the qubit with probability `p_gate1`.\n",
    "\n",
    "- When applying a 2-qubit gate apply single-qubit errors to each qubit.\n",
    "\n",
    "- When resetting a qubit reset to 1 instead of 0 with probability `p_reset`.\n",
    "\n",
    "- When measuring a qubit, flip the state of the qubit with probability `p_meas`.\n"
   ],
   "metadata": {
    "collapsed": false
   }
  },
  {
   "cell_type": "code",
   "execution_count": 21,
   "outputs": [
    {
     "name": "stdout",
     "output_type": "stream",
     "text": [
      "NoiseModel:\n",
      "  Basis gates: ['cx', 'id', 'rz', 'sx', 'u1', 'u2', 'u3']\n",
      "  Instructions with noise: ['reset', 'measure', 'u2', 'u1', 'u3', 'cx']\n",
      "  All-qubits errors: ['reset', 'measure', 'u1', 'u2', 'u3', 'cx']\n"
     ]
    }
   ],
   "source": [
    "# Import from Qiskit Aer noise module\n",
    "from qiskit_aer.noise import (NoiseModel, QuantumError, ReadoutError,\n",
    "                              pauli_error, depolarizing_error, thermal_relaxation_error)\n",
    "\n",
    "# Example error probabilities\n",
    "p_reset = 0.03\n",
    "p_meas = 0.1\n",
    "p_gate1 = 0.05\n",
    "\n",
    "# QuantumError objects\n",
    "error_reset = pauli_error([('X', p_reset), ('I', 1 - p_reset)])\n",
    "error_meas = pauli_error([('X',p_meas), ('I', 1 - p_meas)])\n",
    "error_gate1 = pauli_error([('X',p_gate1), ('I', 1 - p_gate1)])\n",
    "error_gate2 = error_gate1.tensor(error_gate1)\n",
    "\n",
    "# Add errors to noise model\n",
    "noise_bit_flip = NoiseModel()\n",
    "noise_bit_flip.add_all_qubit_quantum_error(error_reset, \"reset\")\n",
    "noise_bit_flip.add_all_qubit_quantum_error(error_meas, \"measure\")\n",
    "noise_bit_flip.add_all_qubit_quantum_error(error_gate1, [\"u1\", \"u2\", \"u3\"])\n",
    "noise_bit_flip.add_all_qubit_quantum_error(error_gate2, [\"cx\"])\n",
    "\n",
    "print(noise_bit_flip)\n"
   ],
   "metadata": {
    "collapsed": false
   }
  },
  {
   "cell_type": "code",
   "execution_count": 22,
   "outputs": [],
   "source": [
    "# Create noisy simulator backend\n",
    "sim_noise = AerSimulator(noise_model=noise_bit_flip)\n"
   ],
   "metadata": {
    "collapsed": false
   }
  },
  {
   "cell_type": "markdown",
   "source": [
    "\n",
    "### T1/T2 thermal relaxation\n",
    "\n",
    "Now consider a more realistic error model based on thermal relaxation with the qubit environment:\n",
    "    * Each qubit is parameterized by a thermal relaxation time constant T1\n",
    "and a dephasing time constant T2.\n",
    "* Error rates on instructions are determined by gate times and qubit T1, T2 values."
   ],
   "metadata": {
    "collapsed": false
   }
  },
  {
   "cell_type": "code",
   "execution_count": 25,
   "outputs": [
    {
     "name": "stdout",
     "output_type": "stream",
     "text": [
      "NoiseModel:\n",
      "  Basis gates: ['cx', 'id', 'rz', 'sx', 'u2', 'u3']\n",
      "  Instructions with noise: ['reset', 'measure', 'u2', 'u3', 'cx']\n",
      "  Qubits with noise: [0, 1, 2, 3]\n",
      "  Specific qubit errors: [('reset', (0,)), ('reset', (1,)), ('reset', (2,)), ('reset', (3,)), ('measure', (0,)), ('measure', (1,)), ('measure', (2,)), ('measure', (3,)), ('u2', (0,)), ('u2', (1,)), ('u2', (2,)), ('u2', (3,)), ('u3', (0,)), ('u3', (1,)), ('u3', (2,)), ('u3', (3,)), ('cx', (0, 0)), ('cx', (0, 1)), ('cx', (0, 2)), ('cx', (0, 3)), ('cx', (1, 0)), ('cx', (1, 1)), ('cx', (1, 2)), ('cx', (1, 3)), ('cx', (2, 0)), ('cx', (2, 1)), ('cx', (2, 2)), ('cx', (2, 3)), ('cx', (3, 0)), ('cx', (3, 1)), ('cx', (3, 2)), ('cx', (3, 3))]\n"
     ]
    }
   ],
   "source": [
    "# T1 and T2 values for qubits 0-3\n",
    "T1s = np.random.normal(50e3, 10e3, 4) # Sampled from normal distribution mean 50 microsec\n",
    "T2s = np.random.normal(70e3, 10e3, 4)  # Sampled from normal distribution mean 50 microsec\n",
    "\n",
    "# Truncate random T2s <= T1s\n",
    "T2s = np.array([min(T2s[j], 2 * T1s[j]) for j in range(4)])\n",
    "\n",
    "# Instruction times (in nanoseconds)\n",
    "time_u1 = 0   # virtual gate\n",
    "time_u2 = 50  # (single X90 pulse)\n",
    "time_u3 = 100 # (two X90 pulses)\n",
    "time_cx = 300\n",
    "time_reset = 1000  # 1 microsecond\n",
    "time_measure = 1000 # 1 microsecond\n",
    "\n",
    "# QuantumError objects\n",
    "errors_reset = [thermal_relaxation_error(t1, t2, time_reset)\n",
    "                for t1, t2 in zip(T1s, T2s)]\n",
    "errors_measure = [thermal_relaxation_error(t1, t2, time_measure)\n",
    "                  for t1, t2 in zip(T1s, T2s)]\n",
    "errors_u1  = [thermal_relaxation_error(t1, t2, time_u1)\n",
    "              for t1, t2 in zip(T1s, T2s)]\n",
    "errors_u2  = [thermal_relaxation_error(t1, t2, time_u2)\n",
    "              for t1, t2 in zip(T1s, T2s)]\n",
    "errors_u3  = [thermal_relaxation_error(t1, t2, time_u3)\n",
    "              for t1, t2 in zip(T1s, T2s)]\n",
    "errors_cx = [[thermal_relaxation_error(t1a, t2a, time_cx).expand(\n",
    "    thermal_relaxation_error(t1b, t2b, time_cx))\n",
    "    for t1a, t2a in zip(T1s, T2s)]\n",
    "    for t1b, t2b in zip(T1s, T2s)]\n",
    "\n",
    "# Add errors to noise model\n",
    "noise_thermal = NoiseModel()\n",
    "for j in range(4):\n",
    "    noise_thermal.add_quantum_error(errors_reset[j], \"reset\", [j])\n",
    "    noise_thermal.add_quantum_error(errors_measure[j], \"measure\", [j])\n",
    "    noise_thermal.add_quantum_error(errors_u1[j], \"u1\", [j])\n",
    "    noise_thermal.add_quantum_error(errors_u2[j], \"u2\", [j])\n",
    "    noise_thermal.add_quantum_error(errors_u3[j], \"u3\", [j])\n",
    "    for k in range(4):\n",
    "        noise_thermal.add_quantum_error(errors_cx[j][k], \"cx\", [j, k])\n",
    "\n",
    "print(noise_thermal)"
   ],
   "metadata": {
    "collapsed": false
   }
  },
  {
   "cell_type": "code",
   "execution_count": 26,
   "outputs": [],
   "source": [
    "# Run the noisy simulation\n",
    "sim_thermal = AerSimulator(noise_model=noise_thermal)\n",
    "\n"
   ],
   "metadata": {
    "collapsed": false
   }
  },
  {
   "cell_type": "code",
   "execution_count": 34,
   "outputs": [],
   "source": [
    "\n",
    "# Finally we write a function that executes the circuit on the chosen backend\n",
    "def get_noisy_expectation(G, sim, shots=512):\n",
    "\n",
    "    \"\"\"\n",
    "    Runs parametrized circuit\n",
    "\n",
    "    Args:\n",
    "        G: networkx graph\n",
    "        p: int,\n",
    "           Number of repetitions of unitaries\n",
    "    \"\"\"\n",
    "\n",
    "    backend = Aer.get_backend('qasm_simulator')\n",
    "    backend.shots = shots\n",
    "\n",
    "    def execute_circ(theta):\n",
    "\n",
    "        qc = create_qaoa_circ(G, theta)\n",
    "        # transpile circuit for noisy basis gates\n",
    "        circ_sim = transpile(qc, sim)\n",
    "        counts = sim.run(circ_sim, seed_simulator=10,\n",
    "                             nshots=shots).result().get_counts()\n",
    "\n",
    "        return compute_expectation(counts, G)\n",
    "\n",
    "    return execute_circ"
   ],
   "metadata": {
    "collapsed": false
   }
  },
  {
   "cell_type": "code",
   "execution_count": 37,
   "outputs": [
    {
     "data": {
      "text/plain": "     fun: -2.0390625\n   maxcv: 0.0\n message: 'Optimization terminated successfully.'\n    nfev: 23\n  status: 1\n success: True\n       x: array([1.9716593 , 1.26845499])"
     },
     "execution_count": 37,
     "metadata": {},
     "output_type": "execute_result"
    }
   ],
   "source": [
    "from scipy.optimize import minimize\n",
    "\n",
    "# todo: change the noisy simulator\n",
    "sim = sim_noise\n",
    "\n",
    "expectation = get_noisy_expectation(\n",
    "    G,\n",
    "    sim,\n",
    "    shots=1024\n",
    ")\n",
    "\n",
    "res = minimize(expectation,\n",
    "               [1.0, 1.0],\n",
    "               method='COBYLA')\n",
    "res"
   ],
   "metadata": {
    "collapsed": false
   }
  },
  {
   "cell_type": "markdown",
   "source": [
    "Note that different choices of classical optimizers are present in qiskit. We choose [COBYLA](https://github.com/Qiskit/qiskit-terra/blob/main/qiskit/algorithms/optimizers/cobyla.py) as our classical optimization algorithm here."
   ],
   "metadata": {
    "collapsed": false
   }
  },
  {
   "cell_type": "markdown",
   "source": [
    "### Analyzing the result"
   ],
   "metadata": {
    "collapsed": false
   }
  },
  {
   "cell_type": "code",
   "execution_count": 38,
   "outputs": [
    {
     "data": {
      "text/plain": "<Figure size 504x360 with 1 Axes>",
      "image/png": "[encoded data removed]"
     },
     "execution_count": 38,
     "metadata": {},
     "output_type": "execute_result"
    }
   ],
   "source": [
    "from qiskit.visualization import plot_histogram\n",
    "\n",
    "backend = Aer.get_backend('aer_simulator')\n",
    "backend.shots = 512\n",
    "\n",
    "qc_res = create_qaoa_circ(G, res.x)\n",
    "# transpile circuit for noisy basis gates\n",
    "circ_sim_res = transpile(\n",
    "    qc_res,\n",
    "    sim\n",
    ")\n",
    "\n",
    "counts = sim.run(circ_sim_res, seed_simulator=10).result().get_counts()\n",
    "\n",
    "plot_histogram(counts)\n"
   ],
   "metadata": {
    "collapsed": false
   }
  },
  {
   "cell_type": "markdown",
   "metadata": {},
   "source": [
    "## Appendix"
   ]
  },
  {
   "cell_type": "markdown",
   "metadata": {},
   "source": [
    "### 1. Constructing Problem Hamiltonian <a id='Constructing Hamiltonian'></a>\n",
    "\n",
    "Any maximization problem can be cast in terms of a minimization problem and vice versa. Hence the general form a combinatorial optimization problem is given by\n",
    "\n",
    "\n",
    "\n",
    "$$ \\text{maximize } \\;\\;      C(x)$$\n",
    "\n",
    "\n",
    "\n",
    "\n",
    "$$ \\text{subject to } \\;\\; x \\in S $$\n",
    "\n",
    "\n",
    "\n",
    "where $x \\in S$, is a discrete variable and $C : D \\rightarrow \\mathbb{R}$ is the cost function, that maps from some domain $S$ in to the real numbers $\\mathbb{R}$. The variable $x$ can be subject to a set of constraints and lies within the set $S \\subset D$ of feasible points.\n",
    "\n",
    "In binary combinatorial optimization problems, the cost function $C$ can typically be expressed as a sum of terms that only involve a subset $Q \\subset[n]$ of the $n$ bits in the string $x \\in \\{0,1\\}^n$ and is written in the canonical form\n",
    "\n",
    "\n",
    "\n",
    "$$ C(x) = \\sum_{(Q,\\overline{Q}) \\subset [n]} w_{(Q,\\overline{Q})} \\; \\prod_{i\\in Q} x_i \\; \\prod_{j\\in \\overline{Q}} (1- x_j), $$\n",
    "\n",
    "\n",
    "\n",
    "where $x_i \\in \\{0,1\\}$ and $w_{(Q,\\overline{Q})}\\in \\mathbb{R}$. We want to find the n-bit string $x$ for which $C(x)$ is the maximal."
   ]
  },
  {
   "cell_type": "markdown",
   "metadata": {},
   "source": [
    "#### 1.1 Diagonal Hamiltonians\n",
    "\n",
    "This cost function can be mapped to a Hamiltonian that is diagonal in the computational basis. Given the cost-function $C$ this Hamiltonian is then written as\n",
    "\n",
    "\n",
    "\n",
    "$$ H = \\sum_{x \\in \\{0,1\\}^n} C(x) |x \\rangle\\langle x| $$\n",
    "\n",
    "\n",
    "\n",
    "where $x \\in \\{0,1\\}^n$ labels the computational basis states $|x \\rangle \\in \\mathbb{C}^{2^n}$. If the cost function only has at most weight $k$ terms, i.e. when only $Q$ contribute that involve at most $Q \\leq k$ bits, then this diagonal Hamiltonian is also only a sum of weight $k$ Pauli $Z$ operators.\n",
    "\n",
    "The expansion of $H$ in to Pauli $Z$ operators can be obtained from the canonical expansion of the cost-function $C$ by substituting for every binary variable $x_i \\in \\{0,1\\}$ the matrix $x_i \\rightarrow 2^{-1}(1 - Z_i)$. Here $Z_i$ is read as the Pauli $Z$ operator that acts on qubit $i$ and trivial on all others, i.e.\n",
    "\n",
    "\n",
    "\n",
    "$$ Z_i = \\left(\\begin{array}{cc} 1 & 0 \\\\ 0 & -1 \\end{array}\\right). $$\n",
    "\n",
    "\n",
    "\n",
    "This means that the spin Hamiltonian encoding the classical cost function is written as a $|Q|$ - local quantum spin Hamiltonian only involving Pauli $Z$- operators. \n",
    "\n",
    "\n",
    "\n",
    "$$ H = \\sum_{(Q,\\overline{Q}) \\subset [n]} w_{(Q,\\overline{Q})} \\; \\frac{1}{2^{|Q| + |\\overline{Q}|}}\\prod_{i\\in Q} \\left(1 - Z_i\\right) \\; \\prod_{j\\in \\overline{Q}} \\left(1 + Z_j\\right).$$\n",
    "\n",
    "\n",
    "\n",
    "Now, we will assume that only a few (polynomially many in $n$) $w_{(Q,\\overline{Q})}$ will be non-zero. Moreover we will assume that the set $|(Q,\\overline{Q})|$ is bounded and not too large. This means we can write the cost function as well as the Hamiltonian $H$ as the sum of $m$ local terms $\\hat{C}_k$, \n",
    "\n",
    "\n",
    "\n",
    "$$ H = \\sum_{k = 1}^m \\hat{C}_k, $$\n",
    "\n",
    "\n",
    "\n",
    "where both $m$ and the support of $\\hat{C}_k$ is reasonably bounded."
   ]
  },
  {
   "cell_type": "markdown",
   "metadata": {},
   "source": [
    "### 2 Examples: <a id='examples'></a>\n",
    "\n",
    "We consider 2 examples to illustrate combinatorial optimization problems. We will only implement the first example as in Qiskit, but provide a sequence of exercises that give the instructions to implement the second example as well.  \n",
    "\n",
    "\n",
    "#### 2.1 (weighted) $MAXCUT$\n",
    "\n",
    "Consider an $n$-node non-directed graph *G = (V, E)* where *|V| = n* with edge weights $w_{ij}>0$, $w_{ij}=w_{ji}$, for $(i,j)\\in E$. A cut is defined as a partition of the original set V into two subsets. The cost function to be optimized is in this case the sum of weights of edges connecting points in the two different subsets, *crossing* the cut. By assigning $x_i=0$ or $x_i=1$ to each node $i$, one tries to maximize the global profit function (here and in the following summations run over indices 0,1,...n-1)\n",
    "\n",
    "\n",
    "\n",
    "$$C(\\textbf{x}) = \\sum_{i,j = 1}^n w_{ij} x_i (1-x_j).$$\n",
    "\n",
    "\n",
    "\n",
    "To simplify notation, we assume uniform weights $ w_{ij} = 1$ for $(i,j) \\in E$. In order to find a solution to this problem on a quantum computer, one needs first to map it to a diagonal  Hamiltonian as discussed above. We write the sum as a sum over edges in the set $(i,j) = E$ \n",
    "\n",
    "\n",
    "\n",
    "$$C(\\textbf{x}) = \\sum_{i,j = 1}^n w_{ij} x_i (1-x_j)  = \\sum_{(i,j) \\in E} \\left( x_i (1-x_j) + x_j (1-x_i)\\right)$$\n",
    "\n",
    "\n",
    "\n",
    "To map it to a spin Hamiltonian, we make the assignment $x_i\\rightarrow (1-Z_i)/2$, where $Z_i$ is the Pauli Z operator that has eigenvalues $\\pm 1$ and obtain $X \\rightarrow H$\n",
    "\n",
    "\n",
    "\n",
    "$$ H = \\sum_{(j,k) \\in E} \\frac{1}{2}\\left(1 - Z_j Z_k \\right).$$\n",
    "\n",
    "\n",
    "\n",
    "This means that the Hamiltonian can be written as a sum of $m = |E|$ local terms $\\hat{C}_e = \\frac{1}{2}\\left(1 - Z_{e1}Z_{e2}\\right)$ with $e = (e1,e2) \\in E$. \n",
    "\n",
    "\n",
    "#### 2.2 Constraint satisfaction problems and $MAX \\; 3-SAT$.\n",
    "\n",
    "Another example of a combinatorial optimization problem is $3-SAT$. Here the cost function $C(\\textbf{x}) = \\sum_{k = 1}^m c_k(\\textbf{x})$ is a sum of clauses $c_k(\\textbf{x})$ that constrain the values of $3$ bits of some $\\textbf{x} \\in \\{0,1\\}^n$ that participate in the clause. Consider for instance this example of a $3-SAT$ clause \n",
    "\n",
    "\n",
    "\n",
    "$$ c_1(\\textbf{x}) = (1-x_1)(1-x_3)x_{132} $$\n",
    "\n",
    "\n",
    "\n",
    "for a bit string $\\textbf{x} \\in \\{0,1\\}^{133}$. The clause can only be satisfied by setting the bits $x_1 = 0$,$x_3 = 0$ and $x_{132} = 1$. The $3-SAT$ problem now asks whether there is a bit string that satisfies all of the $m$ clauses or whether no such string exists. This decision problem is the prime example of a problem that is $NP$-complete.  \n",
    "\n",
    "The closely related optimization problem $MAX \\; 3-SAT$ asks to find the bit string $\\textbf{x}$ that satisfies the maximal number of of clauses in $C(\\textbf{x})$. This can of course be turned again in to a decision problem if we ask where there exists a bit string that satisfies more than $\\tilde{m}$ of the $m$ clauses, which is again $NP$-complete."
   ]
  },
  {
   "cell_type": "markdown",
   "metadata": {},
   "source": [
    "### 3. Approximate optimization algorithms <a id='approximateOPT'></a>\n",
    "\n",
    "Both the previously considered problems $MAXCUT$ and $MAX \\; 3-SAT$ are actually known to be a NP-hard problems [3](#references). In fact it turns out that many combinatorial optimization problems are computationally hard to solve in general. In light of this fact, we can't expect to find a provably efficient algorithm, i.e. an algorithm with polynomial runtime in the problem size, that solves these problems. This also applies to quantum algorithms. There are two main approaches to dealing with such problems. First approach is approximation algorithms that are guaranteed to find solution of specified quality in polynomial time. The second approach are heuristic algorithms that don't have a polynomial runtime guarantee but appear to perform well on some instances of such problems. \n",
    "\n",
    "Approximate optimization algorithms are efficient and provide a provable guarantee on how close the approximate solution is to the actual optimum of the problem. The guarantee typically comes in the form of an approximation ratio, $\\alpha \\leq 1$. A probabilistic approximate optimization algorithm guarantees that it produces a bit-string $\\textbf{x}^* \\in \\{0,1\\}^n$ so that *with high probability* we have that with a positive $C_{max} = \\max_{\\textbf{x}}C(\\textbf{x})$ \n",
    "\n",
    "\n",
    "\n",
    "$$ C_{max} \\geq C(\\textbf{x}^*) \\geq \\alpha C_{max}. $$\n",
    "\n",
    "\n",
    "\n",
    "For the $MAXCUT$ problem there is a famous approximate algorithm due to Goemans and Williamson [2](#references) . This algorithm is based on an SDP relaxation of the original problem combined with a probabilistic rounding technique that yields an with high probability approximate solution $\\textbf{x}^*$ that has an approximation ratio of $\\alpha \\approx 0.878$. This approximation ratio is actually believed to optimal so we do not expect to see an improvement by using a quantum algorithm."
   ]
  },
  {
   "cell_type": "markdown",
   "metadata": {},
   "source": [
    "### 4. The QAOA algorithm <a id=\"QAOA\"></a>\n",
    "The Quantum approximate optimization algorithm (QAOA) by Farhi, Goldstone and Gutmann [1](#references) is an example of a heuristic algorithm. Unlike Goemans-Williamson algorithm, QAOA does not come with performance guarantees.\n",
    "QAOA takes the approach of classical approximate algorithms and looks for a quantum analogue that will likewise produce a classical bit string $x^*$ that with high probability is expected to have a good approximation ratio $\\alpha$. Before discussing the details, let us first present the general idea of this approach. \n",
    "\n",
    "#### 4.1 Overview:\n",
    "\n",
    "We want to find a quantum state $|\\psi_p(\\vec{\\gamma},\\vec{\\beta})\\rangle$, that depends on some real parameters $\\vec{\\gamma},\\vec{\\beta} \\in \\mathbb{R}^p$, which has the property that it maximizes the expectation value with respect to the problem Hamiltonian $H$. Given this trial state we search for parameters $\\vec{\\gamma}^*,\\vec{\\beta}^*$ that maximize $F_p(\\vec{\\gamma},\\vec{\\beta}) = \\langle \\psi_p(\\vec{\\gamma},\\vec{\\beta})|H|\\psi_p(\\vec{\\gamma},\\vec{\\beta})\\rangle$. \n",
    "\n",
    "Once we have such a state and the corresponding parameters we prepare the state $|\\psi_p(\\vec{\\gamma}^*,\\vec{\\beta}^*)\\rangle$ on a quantum computer and measure the state in the $Z$ basis $|x \\rangle = |x_1,\\ldots x_n \\rangle$ to obtain a random outcome $x^*$. \n",
    "\n",
    "We will see that this random $x^*$ is going to be a bit string that is with high probability close to the expected value $M_p = F_p(\\vec{\\gamma}^*,\\vec{\\beta}^*)$. Hence, if $M_p$ is close to $C_{max}$ so is $C(x^*)$.\n",
    "\n",
    "#### 4.2 The components of the QAOA algorithm.\n",
    "\n",
    "#### 4.2.1 The QAOA trial state <a id=\"section_421\"></a>\n",
    "Central to QAOA is the trial state $|\\psi_p(\\vec{\\gamma},\\vec{\\beta})\\rangle$ that will be prepared on the quantum computer. Ideally we want this state to give rise to a large expectation value $F_p(\\vec{\\gamma},\\vec{\\beta}) = \\langle \\psi_p(\\vec{\\gamma},\\vec{\\beta})|H|\\psi_p(\\vec{\\gamma},\\vec{\\beta})\\rangle$ with respect to the problem Hamiltonian $H$. In Farhi [1](#references), the trial states $|\\psi_p(\\vec{\\gamma},\\vec{\\beta})\\rangle$ are constructed from the problem Hamiltonian $H$ together with single qubit Pauli $X$ rotations. That means, given a problems Hamiltonian \n",
    "\n",
    "\n",
    "$$ H = \\sum_{k = 1}^m \\hat{C}_k $$\n",
    "\n",
    " \n",
    "diagonal in the computational basis and a transverse field Hamiltonian\n",
    "\n",
    "\n",
    "$$ B = \\sum_{i = 1}^n X_i $$\n",
    "\n",
    "\n",
    "the trial state is prepared by applying $p$ alternating unitaries \n",
    "\n",
    "\n",
    "\n",
    "$$ |\\psi_p(\\vec{\\gamma},\\vec{\\beta})\\rangle = e^{ -i\\beta_p B } e^{ -i\\gamma_p H } \\ldots e^{ -i\\beta_1 B } e^{ -i\\gamma_1 H } |+\\rangle^n $$\n",
    "\n",
    "\n",
    "\n",
    "to the product state $|+\\rangle^n$ with $ X |+\\rangle = |+\\rangle$. \n",
    "\n",
    "This particular ansatz has the advantage that there exists an explicit choice for the vectors $\\vec{\\gamma}^*,\\vec{\\beta}^*$ such that for $M_p = F_p(\\vec{\\gamma}^*,\\vec{\\beta}^*)$ when we take the limit $\\lim_{p \\rightarrow \\infty} M_p = C_{max}$. This follows by viewing the trial state $|\\psi_p(\\vec{\\gamma},\\vec{\\beta}) \\rangle$ as the state that follows from trotterizing the adiabatic evolution with respect to $H$ and the transverse field Hamiltonian $B$, c.f. Ref [1](#references).\n",
    "\n",
    "Conversely the disadvantage of this trial state is one would typically want a state that has been generated from a quantum circuit that is not too deep. Here depth is measured with respect to the gates that can be applied directly on the quantum chip. Hence there are other proposals that suggest using Ansatz trial state that are more tailored to the Hardware of the quantum chip Ref. [4](#references), Ref. [5](#references).\n",
    "\n",
    "\n",
    "#### 4.2.2 Computing the expectation value <a id=\"section_422\"></a>\n",
    "An important component of this approach is that we will have to compute or estimate the expectation value \n",
    "\n",
    "$$\n",
    "F_p(\\vec{\\gamma},\\vec{\\beta}) = \\langle \\psi_p(\\vec{\\gamma},\\vec{\\beta})|H|\\psi_p(\\vec{\\gamma},\\vec{\\beta})\\rangle \n",
    "$$\n",
    "\n",
    "so we can optimize the parameters $\\vec{\\gamma},\\vec{\\beta}$. We will be considering two scenarios here. \n",
    "\n",
    "#### Classical evaluation\n",
    "Note that when the circuit to prepare $|\\psi_p(\\vec{\\gamma},\\vec{\\beta})\\rangle$ is not too deep it may be possible to evaluate the expectation value $F_p$ classically.  \n",
    "\n",
    "This happens for instance when one considers $MAXCUT$ for graphs with bounded degree and one considers a circuit with $p=1$. We will see an example of this in the Qiskit implementation below (section 5.2) and  provide an exercise to compute the expectation value.\n",
    "\n",
    "To illustrate the idea, recall that the Hamiltonian can be written as a sum of individual terms $H = \\sum_{k = 1}^m \\hat{C}_k$. Due to the linearity of the expectation value, it is sufficient to consider the expectation values of the individual summands. For $p = 1$ one has that \n",
    "\n",
    "\n",
    "\n",
    "$$ \\langle \\psi_1(\\vec{\\gamma},\\vec{\\beta})|\\hat{C}_k|\\psi_1(\\vec{\\gamma},\\vec{\\beta})\\rangle =  \\langle +^n | e^{ i\\gamma_1 H } e^{   i\\beta_1 B } | \\hat{C}_k |  e^{ -i\\beta_1 B } e^{ -i\\gamma_1 H } |+^n\\rangle.$$\n",
    "\n",
    "\n",
    "\n",
    "Observe that with $B = \\sum_{i = 1}^n X_i$ the unitary $e^{ -i\\beta_1 B }$ is actually a product of single qubit rotations about $X$ with an angle $\\beta$ for which we will write $X(\\beta)_k = \\exp(i\\beta X_k)$. \n",
    "\n",
    "All the individual rotations that don't act on the qubits where $\\hat{C}_k$ is supported commute with $\\hat{C}_k$ and therefore cancel. This does not increase the support of the operator $\\hat{C}_k$. This means that the second set of unitary gates $e^{ -i\\gamma_1 H } = \\prod_{l=1}^m U_l(\\gamma)$ have a large set of gates $U_l(\\gamma) = e^{ -i\\gamma_1 \\hat{C}_l }$ that commute with the operator $e^{ i\\beta_1 B } \\hat{C}_k  e^{ -i\\beta_1 B }$. The only gates $U_l(\\gamma) = e^{ -i\\gamma_1 \\hat{C}_l }$ that contribute to the expectation value are those which involve qubits in the support of the original $\\hat{C}_k$. \n",
    "\n",
    "Hence, for bounded degree interaction the support of $e^{ i\\gamma_1 H } e^{   i\\beta_1 B } \\hat{C}_k e^{ -i\\beta_1 B } e^{ -i\\gamma_1 H }$ only expands by an amount given by the degree of the interaction in $H$ and is therefore independent of the system size. This means that for these smaller sub problems the expectation values are independent of $n$ and can be evaluated classically. The case of a general degree $3$ is considered in [1](#references).\n",
    "\n",
    "This is a general observation,  which means that if we have a problem where the circuit used for the trial state preparation only increases the support of each term in the Hamiltonian by a constant amount the cost function can be directly evaluated. \n",
    "\n",
    "When this is the case, and only a few parameters $\\beta, \\gamma$ are needed in the preparation of the trial state,\n",
    "these can be found easily by a simple grid search. Furthermore, an exact optimal value of $M_p$ can be used to bound the approximation ratio\n",
    "\n",
    "\n",
    "\n",
    "$$ \\frac{M_p}{C_{max}} \\geq \\alpha $$\n",
    "\n",
    "\n",
    "\n",
    "to obtain an estimate of $\\alpha$. For this case the QAOA algorithm has the same characteristics as a conventional approximate optimization algorithm that comes with a guaranteed approximation ratio that can be obtained with polynomial efficiency in the problem size.\n",
    "\n",
    "\n",
    "#### Evaluation on a quantum computer\n",
    "\n",
    "When the quantum circuit becomes too deep to be evaluated classically, or when the connectivity of the Problem Hamiltonian is too high we can resort to other means of estimating the expectation value. This involves directly estimating $F_p(\\vec{\\gamma},\\vec{\\beta})$ on the quantum computer. The approach here follows the path of the conventional expectation value estimation as used in VQE [4](#references), where a trial state $| \\psi_p(\\vec{\\gamma},\\vec{\\beta}) \\rangle$ is prepared directly on the quantum computer and the expectation value is obtained from sampling.\n",
    "\n",
    "Since QAOA  has a diagonal Hamiltonian $H$ it is actually straight forward to estimate the expectation value. We only need to obtain samples from the trial state in the computational basis. Recall that $H = \\sum_{x \\in \\{0,1\\}^n} C(x) |x \\rangle\\langle x|$ so that we can obtain the sampling estimate of \n",
    "\n",
    "\n",
    "\n",
    "$$ \\langle \\psi_p(\\vec{\\gamma},\\vec{\\beta})|H|\\psi_p(\\vec{\\gamma},\\vec{\\beta})\\rangle = \\sum_{x \\in \\{0,1\\}^n} C(x) |\\langle x| \\psi_p(\\vec{\\gamma},\\vec{\\beta}) \\rangle |^2$$\n",
    "\n",
    "\n",
    "\n",
    "by repeated single qubit measurements of the state $| \\psi_p(\\vec{\\gamma},\\vec{\\beta}) \\rangle $ in the $Z$ basis. For every bit string $x$ obtained from the distribution $|\\langle x| \\psi_p(\\vec{\\gamma},\\vec{\\beta}) \\rangle |^2$ we evaluate the cost function $C(x)$ and average it over the total number of samples. The resulting empirical average approximates the expectation value up to an additive sampling error that lies within the variance of the state. The variance will be discussed below.\n",
    "\n",
    "With access to the expectation value, we can now run a classical optimization algorithm, such as [6](#references),\n",
    "to optimize the $F_p$.\n",
    "\n",
    "While this approach does not lead to an a-priori approximation guarantee for $x^*$, the optimized function value \n",
    "can be used later to provide an estimate for the approximation ratio $\\alpha$.\n",
    "\n",
    "\n",
    "#### 4.3.3 Obtaining a solution with a given approximation ratio with high probability\n",
    "The algorithm is probabilistic in nature and produces random bit strings from the distribution $|\\langle x| \\psi_p(\\vec{\\gamma},\\vec{\\beta}) \\rangle |^2$. So how can we be sure that we will sample an approximation $x^*$ that is close to the value of the optimized expectation value $M_p$? Note that this question is also relevant to the estimation of $M_p$ on a quantum computer in the first place. If the samples drawn from $|\\langle x| \\psi_p(\\vec{\\gamma},\\vec{\\beta}) \\rangle |^2$ have too much variance, many samples are necessary to determine the mean. \n",
    "\n",
    "We will draw a bit string $x^*$ that is close to the mean $M_p$ with high probability when the energy as variable has little variance.\n",
    "\n",
    "Note that the number of terms in the Hamiltonian $H = \\sum_{k=1}^m \\hat{C}_k$ are bounded by $m$. Say each individual \n",
    "summand $\\hat{C}_k$ has an operator norm that can be bounded by a universal constant $\\|\\hat{C}_k\\| \\leq \\tilde{C}$ for all $k = 1\\ldots m$. Then consider \n",
    "\n",
    "$$\n",
    "\\begin{eqnarray}\n",
    "\\langle \\psi_p(\\vec{\\gamma},\\vec{\\beta})|H^2|\\psi_p(\\vec{\\gamma},\\vec{\\beta})\\rangle - \\langle \\psi_p(\\vec{\\gamma},\\vec{\\beta})|H|\\psi_p(\\vec{\\gamma},\\vec{\\beta})\\rangle^2 &\\leq & \\langle \\psi_p(\\vec{\\gamma},\\vec{\\beta})|H^2|\\psi_p(\\vec{\\gamma},\\vec{\\beta})\\rangle \\\\\\nonumber\n",
    "&=& \\sum_{k,l =1}^m  \\langle \\psi_p(\\vec{\\gamma},\\vec{\\beta})|\\hat{C}_k \\hat{C}_l |\\psi_p(\\vec{\\gamma},\\vec{\\beta})\\rangle \\\\\\nonumber \n",
    "&\\leq& m^2 \\tilde{C}^2 \\\\\\nonumber\n",
    "\\end{eqnarray}\n",
    "$$\n",
    "\n",
    "\n",
    "where we have used that \n",
    "$\\langle \\psi_p(\\vec{\\gamma},\\vec{\\beta})|\\hat{C}_k \\hat{C}_l |\\psi_p(\\vec{\\gamma},\\vec{\\beta})\\rangle \\leq \\tilde{C}^2$. \n",
    "\n",
    "\n",
    "This means that the variance of any expectation $F_p(\\vec{\\gamma},\\vec{\\beta})$ is bounded by $m^2 \\tilde{C}^2$. Hence this in particular applies for $M_p$. Furthermore if $m$ only grows polynomially in the number of qubits $n$, we know that taking polynomially growing number of samples $s = O\\left(\\frac{\\tilde{C}^2 m^2}{\\epsilon^2}\\right)$ from $|\\langle x| \\psi_p(\\vec{\\gamma},\\vec{\\beta}) \\rangle |^2$ will be sufficient to obtain a $x^*$ that leads to an $C(x^*)$ that will be close to $M_p$."
   ]
  },
  {
   "cell_type": "markdown",
   "metadata": {},
   "source": [
    "### 5. Problems<a id=\"problems\"></a>\n",
    "\n",
    "0. The QAOA algorithm produces a bit string, is this string the optimal solution for this graph? Compare the experimental results from the superconducting chip with the results from the local QASM simulation.\n",
    "\n",
    "\n",
    "1. We have computed the cost function $F_1$  analytically in [section 5.2](#implementation_sec52). Verify the steps and compute $f_A(\\gamma,\\beta)$ as well $f_B(\\gamma,\\beta)$. \n",
    "\n",
    "\n",
    "2. We have given an exact expression for $F_1$ in the Qiskit implementation. \n",
    "\n",
    "      - Write a routine to estimate the expectation value $F_1(\\gamma,\\beta)$ from the samples obtained in the result (hint: use the function cost_function_C(x,G) from [section 5.4](#implementation_sec54) and the evaluation of the data in both section [5.a / 5.b](#implementationsim))\n",
    "       \n",
    "      - Use an optimization routine,e.g. SPSA from the VQE example in this tutorial, to optimize the parameters in the sampled $F_1(\\gamma,\\beta)$ numerically. Do you find the same values for $\\gamma^*,\\beta^*$ ?\n",
    "\n",
    "\n",
    "3. The Trial circuit in [section 5.3](#implementation_sec53) corresponds to depth $p=1$ and was directly aimed at being compatible with the Hardware.\n",
    "    - Use the routine from exercise 2 to evaluate the cost functions $F_p(\\gamma,\\beta)$ for $p=2,3$. What do you expect to see in the actual Hardware?\n",
    "    - Generalize this class of trial state to other candidate wave functions, such as the Hardware efficient ansatz of Ref. [4](#references).\n",
    "    \n",
    "\n",
    "4. Consider an example of $MAX \\;\\; 3-SAT$ as discussed in the example section and modify the function cost_function_C(c,G) from [section 5.4](#implementation_sec54) you have used to compute $F_p$ accordingly. Run the QAOA algorithm for this instance of $MAX \\; 3-SAT$ using the hardware efficient algorithm and analyze the results. "
   ]
  },
  {
   "cell_type": "markdown",
   "metadata": {},
   "source": [
    "## References<a id=\"references\"></a>\n",
    "1. Farhi, Edward, Jeffrey Goldstone, and Sam Gutmann. \"A quantum approximate optimization algorithm.\" arXiv preprint [arXiv:1411.4028 (2014)](https://arxiv.org/abs/1411.4028).\n",
    "2. Goemans, Michel X., and David P. Williamson. [Journal of the ACM (JACM) 42.6 (1995): 1115-1145](http://www-math.mit.edu/~goemans/PAPERS/maxcut-jacm.pdf).\n",
    "3. Garey, Michael R.; David S. Johnson (1979). Computers and Intractability: A Guide to the Theory of NP-Completeness. W. H. Freeman. ISBN 0-7167-1045-5\n",
    "4. Kandala, Abhinav, et al. \"Hardware-efficient variational quantum eigensolver for small molecules and quantum magnets.\" [Nature 549.7671 (2017): 242](https://www.nature.com/articles/nature23879).\n",
    "5. Farhi, Edward, et al. \"Quantum algorithms for fixed qubit architectures.\" arXiv preprint [arXiv:1703.06199 (2017)](https://arxiv.org/abs/1703.06199).\n",
    "6. Spall, J. C. (1992), [IEEE Transactions on Automatic Control, vol. 37(3), pp. 332–341](https://ieeexplore.ieee.org/document/119632).\n",
    "7. Michael Streif and Martin Leib \"Training the quantum approximate optimization algorithm without access to a quantum processing unit\" (2020) [Quantum Sci. Technol. 5 034008](https://doi.org/10.1088/2058-9565/ab8c2b)"
   ]
  },
  {
   "cell_type": "code",
   "execution_count": 10,
   "metadata": {},
   "outputs": [
    {
     "data": {
      "text/plain": "<IPython.core.display.HTML object>",
      "text/html": "<h3>Version Information</h3><table><tr><th>Qiskit Software</th><th>Version</th></tr><tr><td><code>qiskit-terra</code></td><td>0.22.3</td></tr><tr><td><code>qiskit-aer</code></td><td>0.11.1</td></tr><tr><td><code>qiskit-ibmq-provider</code></td><td>0.19.2</td></tr><tr><td><code>qiskit</code></td><td>0.39.3</td></tr><tr><td><code>qiskit-nature</code></td><td>0.5.2</td></tr><tr><th>System information</th></tr><tr><td>Python version</td><td>3.8.7</td></tr><tr><td>Python compiler</td><td>Clang 12.0.0 (clang-1200.0.32.29)</td></tr><tr><td>Python build</td><td>default, May  8 2021 12:44:33</td></tr><tr><td>OS</td><td>Darwin</td></tr><tr><td>CPUs</td><td>8</td></tr><tr><td>Memory (Gb)</td><td>16.0</td></tr><tr><td colspan='2'>Fri Apr 14 09:23:34 2023 CEST</td></tr></table>"
     },
     "metadata": {},
     "output_type": "display_data"
    }
   ],
   "source": [
    "import qiskit.tools.jupyter\n",
    "%qiskit_version_table"
   ]
  },
  {
   "cell_type": "code",
   "execution_count": 10,
   "outputs": [],
   "source": [],
   "metadata": {
    "collapsed": false
   }
  }
 ],
 "metadata": {
  "kernelspec": {
   "display_name": "Python 3",
   "language": "python",
   "name": "python3"
  },
  "language_info": {
   "codemirror_mode": {
    "name": "ipython",
    "version": 3
   },
   "file_extension": ".py",
   "mimetype": "text/x-python",
   "name": "python",
   "nbconvert_exporter": "python",
   "pygments_lexer": "ipython3",
   "version": "3.7.7"
  }
 },
 "nbformat": 4,
 "nbformat_minor": 4
}
